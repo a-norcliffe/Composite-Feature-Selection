{
 "cells": [
  {
   "cell_type": "markdown",
   "metadata": {
    "id": "tK3iwZAjHjLC"
   },
   "source": [
    "# Example Notebook\n",
    "\n",
    "In this notebook we demonstrate CompFS on the Syn1 experiment from the paper. This can be used on custom data if it is written as numpy arrays."
   ]
  },
  {
   "cell_type": "code",
   "execution_count": null,
   "metadata": {
    "colab": {
     "base_uri": "https://localhost:8080/"
    },
    "id": "mpWMfto--idh",
    "outputId": "b4594c75-ae28-4c35-ef13-01949e812781"
   },
   "outputs": [],
   "source": [
    "import numpy as np\n",
    "import torch\n",
    "import torch.nn as nn\n",
    "\n",
    "# Set and print device.\n",
    "device = torch.device(\"cuda:0\" if torch.cuda.is_available() else \"cpu\")\n",
    "print(device)"
   ]
  },
  {
   "cell_type": "markdown",
   "metadata": {},
   "source": [
    "# Import required files from CompFS Repo"
   ]
  },
  {
   "cell_type": "code",
   "execution_count": null,
   "metadata": {},
   "outputs": [],
   "source": [
    "from compfs.metrics import accuracy, gsim, tpr_fdr\n",
    "from compfs.models import CompFS, TorchModel\n",
    "from compfs.thresholding_functions import make_lambda_threshold\n",
    "from compfs.datasets import NumpyDataset"
   ]
  },
  {
   "cell_type": "markdown",
   "metadata": {
    "id": "bKlg239SDEPs"
   },
   "source": [
    "# Example\n",
    "\n",
    "Here we demonstrate CompFS on Syn1. The two cells below can be edited to run your own data."
   ]
  },
  {
   "cell_type": "code",
   "execution_count": null,
   "metadata": {
    "id": "afsRGOZjEKMQ"
   },
   "outputs": [],
   "source": [
    "# These can be changed to run your own data.\n",
    "\n",
    "X_train = np.random.normal(size=(20000, 500))\n",
    "y_train = np.array([((x[0] > 0.55) or (x[1] > 0.55)) for x in X_train])\n",
    "X_val = np.random.normal(size=(200, 500))\n",
    "y_val = np.array([((x[0] > 0.55) or (x[1] > 0.55)) for x in X_val])\n",
    "\n",
    "is_classification = True\n",
    "\n",
    "ground_truth_groups = [np.array([0]), np.array([1])]"
   ]
  },
  {
   "cell_type": "code",
   "execution_count": null,
   "metadata": {
    "id": "jGlzWZtLFhs6"
   },
   "outputs": [],
   "source": [
    "# This config should be changed to use your own data, and find specific\n",
    "# hyperparameters for the problem.\n",
    "\n",
    "compfs_config = {\n",
    "    \"model\": CompFS,\n",
    "    \"model_config\": {\n",
    "        \"lr\": 0.003,\n",
    "        \"lr_decay\": 0.99,\n",
    "        \"batchsize\": 50,\n",
    "        \"num_epochs\": 35,\n",
    "        \"loss_func\": nn.CrossEntropyLoss(),\n",
    "        \"val_metric\": accuracy,\n",
    "        \"in_dim\": 500,\n",
    "        \"h_dim\": 20,\n",
    "        \"out_dim\": 2,\n",
    "        \"nlearners\": 5,\n",
    "        \"threshold_func\": make_lambda_threshold(0.7),\n",
    "        \"temp\": 0.1,\n",
    "        \"beta_s\": 4.5,\n",
    "        \"beta_s_decay\": 0.99,\n",
    "        \"beta_d\": 1.2,\n",
    "        \"beta_d_decay\": 0.99,\n",
    "    },\n",
    "}\n",
    "\n",
    "compfs_config[\"device\"] = device"
   ]
  },
  {
   "cell_type": "markdown",
   "metadata": {},
   "source": [
    "# Train a CompFS Model and see the Groups"
   ]
  },
  {
   "cell_type": "code",
   "execution_count": null,
   "metadata": {
    "id": "lcG_8oYLE7FI"
   },
   "outputs": [],
   "source": [
    "train_data = NumpyDataset(X_train, y_train, classification=is_classification)\n",
    "val_data = NumpyDataset(X_val, y_val, classification=is_classification)\n",
    "model = TorchModel(compfs_config)\n",
    "model.train(train_data, val_data)"
   ]
  },
  {
   "cell_type": "code",
   "execution_count": null,
   "metadata": {
    "colab": {
     "base_uri": "https://localhost:8080/"
    },
    "id": "9tiWX3lWGXcf",
    "outputId": "ce83a0d1-c833-4858-84ed-844db72df098"
   },
   "outputs": [],
   "source": [
    "# Get group similarity and group structure.\n",
    "tpr, fdr = tpr_fdr(ground_truth_groups, model.get_groups())\n",
    "group_sim, ntrue, npredicted = gsim(ground_truth_groups, model.get_groups())\n",
    "\n",
    "print(\"\\n\\nGroup Structure:\")\n",
    "print(\n",
    "    \"Group Similarity: {:.3f}, True Positive Rate: {:.3f}%, False Discovery Rate: {:.3f}%\".format(\n",
    "        group_sim, tpr, fdr\n",
    "    )\n",
    ")\n",
    "print(\n",
    "    \"Number of True Groups: {}, Number of Predicted Groups: {}\".format(\n",
    "        ntrue, npredicted\n",
    "    )\n",
    ")\n",
    "\n",
    "# Give selected features and save the groups.\n",
    "print(\"\\n\\nSelected Features:\")\n",
    "learnt_groups = model.get_groups()\n",
    "for i in range(len(learnt_groups)):\n",
    "    print(\"Group: {}, Features: {}\".format(i + 1, learnt_groups[i]))"
   ]
  },
  {
   "cell_type": "markdown",
   "metadata": {
    "id": "Wsn30ZLfIIgF"
   },
   "source": [
    "We see that the model finds the features, usually separating features 0 and 1, occasionally grouping them together."
   ]
  }
 ],
 "metadata": {
  "colab": {
   "provenance": []
  },
  "kernelspec": {
   "display_name": "Python 3 (ipykernel)",
   "language": "python",
   "name": "python3"
  },
  "language_info": {
   "codemirror_mode": {
    "name": "ipython",
    "version": 3
   },
   "file_extension": ".py",
   "mimetype": "text/x-python",
   "name": "python",
   "nbconvert_exporter": "python",
   "pygments_lexer": "ipython3",
   "version": "3.7.6"
  }
 },
 "nbformat": 4,
 "nbformat_minor": 1
}
