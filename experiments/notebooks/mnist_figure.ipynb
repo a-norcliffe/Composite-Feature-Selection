{
  "nbformat": 4,
  "nbformat_minor": 0,
  "metadata": {
    "colab": {
      "provenance": [],
      "collapsed_sections": []
    },
    "kernelspec": {
      "name": "python3",
      "display_name": "Python 3"
    },
    "language_info": {
      "name": "python"
    }
  },
  "cells": [
    {
      "cell_type": "markdown",
      "source": [
        "# This notebook requires values to be pasted in from the MNIST experiments and from the MNIST post analysis"
      ],
      "metadata": {
        "id": "r_sQkyyaFXd7"
      }
    },
    {
      "cell_type": "code",
      "execution_count": 1,
      "metadata": {
        "id": "jchSQE78kdrR"
      },
      "outputs": [],
      "source": [
        "import numpy as np\n",
        "import matplotlib.pyplot as plt"
      ]
    },
    {
      "cell_type": "markdown",
      "source": [
        "# Feature indices pasted from experiments"
      ],
      "metadata": {
        "id": "sf1__FFKDcDQ"
      }
    },
    {
      "cell_type": "code",
      "source": [
        "g1 = np.array([152, 211, 265, 319, 323, 324, 326, 354, 380, 404, 434, 489, 490, 576, 679])\n",
        "g2 = np.array([93, 156, 260, 320, 349, 378, 382, 383, 402, 405, 489, 495, 569, 577, 659])\n",
        "g3 = np.array([187, 216, 235, 238, 239, 241, 262, 272, 291, 297, 328, 353, 386, 469, 513])\n",
        "g4 = np.array([210, 242, 268, 346, 347, 348, 350, 357, 405, 431, 436, 486, 512, 516, 543])\n",
        "\n",
        "union = np.unique(np.concatenate([g1, g2, g3, g4]))\n",
        "\n",
        "\n",
        "stg = np.array([[152, 154, 155, 157, 185, 210, 212, 213, 243, 265, 268,\n",
        "                 270, 272, 289, 291, 293, 294, 296, 316, 320, 324, 326,\n",
        "                 328, 346, 349, 350, 371, 374, 378, 403, 405, 408, 409,\n",
        "                 427, 434, 456, 465, 485, 486, 489, 514, 516, 540, 550,\n",
        "                 571, 656]])\n",
        "\n",
        "scae = np.array([153, 657, 380, 578, 329, 317, 402, 538, 625, 457,\n",
        "                 376, 456, 569, 440, 269, 455, 211,  99, 378, 554,\n",
        "                 344, 343, 515, 348, 321, 374, 326, 292, 323, 433,\n",
        "                 342, 552, 294, 486, 462, 157, 319, 387, 356, 247,\n",
        "                 155, 655, 381, 517, 210])\n",
        "\n",
        "\n",
        "uscae = np.array([401, 352, 604, 290, 242, 608, 376, 456, 659, 319,\n",
        "                  634, 210, 594, 461, 344, 377, 354, 188, 273, 540,\n",
        "                  359, 357, 546, 127, 296, 481, 436, 259, 653, 266,\n",
        "                  432, 525, 514, 327, 575, 439, 234, 598, 551, 545,\n",
        "                  177, 517, 125, 469, 655])"
      ],
      "metadata": {
        "id": "GuBj9A-ykeLJ"
      },
      "execution_count": 2,
      "outputs": []
    },
    {
      "cell_type": "markdown",
      "source": [
        "# Figure of selected Pixels"
      ],
      "metadata": {
        "id": "xuyKa-djDeoT"
      }
    },
    {
      "cell_type": "code",
      "source": [
        "from matplotlib.pyplot import rc as rc\n",
        "\n",
        "\n",
        "rc('font', family='serif')\n",
        "\n",
        "def make_new_image_with_ax(img, title, ax):\n",
        "    # plot a given image with a title\n",
        "    ax.imshow(img, cmap='gray')\n",
        "    ax.set_xticks([])\n",
        "    ax.set_xticklabels([])\n",
        "    ax.set_yticks([])\n",
        "    ax.set_yticklabels([])\n",
        "    ax.set_title(title, fontsize=22)\n",
        "\n",
        "def show_new_nice_figure():\n",
        "    # show a given group on an image, give learnt weighting as well\n",
        "    plt.figure()\n",
        "    fig, ax = plt.subplots(2, 4, figsize=(20, 10))\n",
        "    \n",
        "    #group 1\n",
        "    img = np.zeros(28*28)\n",
        "    img[g1] = 1\n",
        "    make_new_image_with_ax(img.reshape(28, 28), 'Group 1', ax[0][0])\n",
        "\n",
        "    # group 2\n",
        "    img = np.zeros(28*28)\n",
        "    img[g2] = 1\n",
        "    make_new_image_with_ax(img.reshape(28, 28), 'Group 2', ax[0][1])\n",
        "\n",
        "    # group 3\n",
        "    img = np.zeros(28*28)\n",
        "    img[g3] = 1\n",
        "    make_new_image_with_ax(img.reshape(28, 28), 'Group 3', ax[0][2])\n",
        "\n",
        "    # group 4\n",
        "    img = np.zeros(28*28)\n",
        "    img[g4] = 1\n",
        "    make_new_image_with_ax(img.reshape(28, 28), 'Group 4', ax[0][3])\n",
        "\n",
        "    # compfs\n",
        "    img = np.zeros(28*28)\n",
        "    img[union] = 1\n",
        "    make_new_image_with_ax(img.reshape(28, 28), 'All Groups', ax[1][0])\n",
        "\n",
        "    # STG\n",
        "    img = np.zeros(28*28)\n",
        "    img[stg] = 1\n",
        "    make_new_image_with_ax(img.reshape(28, 28), 'STG', ax[1][1])\n",
        "\n",
        "    # SCAE\n",
        "    img = np.zeros(28*28)\n",
        "    img[uscae] = 1\n",
        "    make_new_image_with_ax(img.reshape(28, 28), 'Sup-CAE', ax[1][2])\n",
        "\n",
        "    # USCAE\n",
        "    # SCAE\n",
        "    img = np.zeros(28*28)\n",
        "    img[scae] = 1\n",
        "    make_new_image_with_ax(img.reshape(28, 28), 'Unsup-CAE', ax[1][3])\n",
        "\n",
        "    ax[1][3].axis('off')\n",
        "        \n",
        "    plt.subplots_adjust(wspace = 0.0)\n",
        "\n",
        "\n",
        "show_new_nice_figure()\n",
        "plt.savefig('mnist_all_selected2.pdf', bbox_inches='tight')"
      ],
      "metadata": {
        "colab": {
          "base_uri": "https://localhost:8080/",
          "height": 619
        },
        "id": "WxfIEWMb7FqX",
        "outputId": "f0e8ea6e-95ff-420c-acc8-66baf21dbdb8"
      },
      "execution_count": 6,
      "outputs": [
        {
          "output_type": "display_data",
          "data": {
            "text/plain": [
              "<Figure size 432x288 with 0 Axes>"
            ]
          },
          "metadata": {}
        },
        {
          "output_type": "display_data",
          "data": {
            "text/plain": [
              "<Figure size 1440x720 with 8 Axes>"
            ],
            "image/png": "[encoded data removed]"
          },
          "metadata": {}
        }
      ]
    },
    {
      "cell_type": "markdown",
      "source": [
        "# Bar Chart of Individual Accuracies"
      ],
      "metadata": {
        "id": "adlG4q8cDuVf"
      }
    },
    {
      "cell_type": "markdown",
      "source": [
        "# Accuracies pasted from mnist post analysis"
      ],
      "metadata": {
        "id": "g9BhFFJ6DVEI"
      }
    },
    {
      "cell_type": "code",
      "source": [
        "group1_acc = np.array([78.00, 92.45, 97.00, 68.60, 75.25, 78.51, 75.90, 72.76, 83.17, 62.42, 73.24])\n",
        "group2_acc = np.array([74, 90.41, 95.24, 82.75, 76.63, 49.80, 56.73, 70.98, 86.77, 68.99, 60.26])\n",
        "group3_acc = np.array([72, 87.76, 93.48, 57.66, 55.15, 69.96, 85.09, 89.35, 66.44, 53.08, 65.41])\n",
        "group4_acc = np.array([81, 92.96, 96.04, 79.75, 73.86, 77.80, 68.27, 85.49, 84.53, 78.85, 73.54])\n",
        "compfs_acc = np.array([94, 97.55, 98.85, 91.67, 92.57, 92.57, 93.83, 96.45, 94.65, 93.93, 95.04])\n",
        "union_acc = np.array([95, 97.55, 98.94, 96.03, 94.16, 95.93, 95.18, 96.76, 94.94, 93.84, 90.49])\n",
        "stg_acc = np.array([95, 97.96, 98.85, 95.06, 94.46, 97.56, 95.40, 95.30, 95.14, 94.87, 92.27])\n",
        "scae_acc = np.array([95, 98.06, 98.50, 96.22, 93.17, 93.89, 94.51, 96.35, 94.46, 96.61, 94.45])\n",
        "uscae_acc = np.array([95, 97.65, 98.94, 95.45, 94.85, 94.20, 93.61, 97.81, 94.36, 96.41, 94.45])"
      ],
      "metadata": {
        "id": "UdJvVR5EKQNn"
      },
      "execution_count": 4,
      "outputs": []
    },
    {
      "cell_type": "code",
      "source": [
        "plt.figure()\n",
        "fig, ax = plt.subplots(3, 4, figsize=(20, 15))\n",
        "\n",
        "objects = ['Total', '0', '1', '2', '3', '4', '5', '6', '7', '8', '9']\n",
        "x_pos = [0, 1, 2, 3, 4, 5, 6, 7, 8, 9, 10]\n",
        "ymin = 45\n",
        "ymax = 100\n",
        "\n",
        "performance = group1_acc\n",
        "ax[0][0].bar(x_pos, performance, align='center', alpha=1.0, label='Digits')\n",
        "ax[0][0].bar(x_pos[0], performance[0], align='center', alpha=1.0, label='Overall')\n",
        "#ax[0][0].legend()\n",
        "ax[0][0].set_xticks(x_pos)\n",
        "ax[0][0].set_xticklabels(objects)\n",
        "ax[0][0].set_ylim(ymin, ymax)\n",
        "ax[0][0].set_ylabel('Accuracy (%)')\n",
        "ax[0][0].set_title('Group 1', fontsize=22)\n",
        "\n",
        "performance = group2_acc\n",
        "ax[0][1].bar(x_pos, performance, align='center', alpha=1.0)\n",
        "ax[0][1].bar(x_pos[0], performance[0], align='center', alpha=1.0)\n",
        "ax[0][1].set_xticks(x_pos)\n",
        "ax[0][1].set_xticklabels(objects)\n",
        "ax[0][1].set_ylim(ymin, ymax)\n",
        "ax[0][1].set_ylabel('Accuracy (%)')\n",
        "ax[0][1].set_title('Group 2', fontsize=22)\n",
        "\n",
        "performance = group3_acc\n",
        "ax[0][2].bar(x_pos, performance, align='center', alpha=1.0)\n",
        "ax[0][2].bar(x_pos[0], performance[0], align='center', alpha=1.0)\n",
        "ax[0][2].set_xticks(x_pos)\n",
        "ax[0][2].set_xticklabels(objects)\n",
        "ax[0][2].set_ylim(ymin, ymax)\n",
        "ax[0][2].set_ylabel('Accuracy (%)')\n",
        "ax[0][2].set_title('Group 3', fontsize=22)\n",
        "\n",
        "performance = group4_acc\n",
        "ax[0][3].bar(x_pos, performance, align='center', alpha=1.0)\n",
        "ax[0][3].bar(x_pos[0], performance[0], align='center', alpha=1.0)\n",
        "ax[0][3].set_xticks(x_pos)\n",
        "ax[0][3].set_xticklabels(objects)\n",
        "ax[0][3].set_ylim(ymin, ymax)\n",
        "ax[0][3].set_ylabel('Accuracy (%)')\n",
        "ax[0][3].set_title('Group 4', fontsize=22)\n",
        "\n",
        "performance = compfs_acc\n",
        "ax[1][0].bar(x_pos, performance, align='center', alpha=1.0)\n",
        "ax[1][0].bar(x_pos[0], performance[0], align='center', alpha=1.0)\n",
        "ax[1][0].set_xticks(x_pos)\n",
        "ax[1][0].set_xticklabels(objects)\n",
        "ax[1][0].set_ylim(ymin, ymax)\n",
        "ax[1][0].set_ylabel('Accuracy (%)')\n",
        "ax[1][0].set_title('CompFS', fontsize=22)\n",
        "\n",
        "performance = union_acc\n",
        "ax[1][1].bar(x_pos, performance, align='center', alpha=1.0)\n",
        "ax[1][1].bar(x_pos[0], performance[0], align='center', alpha=1.0)\n",
        "ax[1][1].set_xticks(x_pos)\n",
        "ax[1][1].set_xticklabels(objects)\n",
        "ax[1][1].set_ylim(ymin, ymax)\n",
        "ax[1][1].set_ylabel('Accuracy (%)')\n",
        "ax[1][1].set_title('Union', fontsize=22)\n",
        "\n",
        "ax[1][2].axis('off')\n",
        "ax[1][3].axis('off')\n",
        "\n",
        "performance = stg_acc\n",
        "ax[2][0].bar(x_pos, performance, align='center', alpha=1.0)\n",
        "ax[2][0].bar(x_pos[0], performance[0], align='center', alpha=1.0)\n",
        "ax[2][0].set_xticks(x_pos)\n",
        "ax[2][0].set_xticklabels(objects)\n",
        "ax[2][0].set_ylim(ymin, ymax)\n",
        "ax[2][0].set_ylabel('Accuracy (%)')\n",
        "ax[2][0].set_title('STG', fontsize=22)\n",
        "\n",
        "performance = scae_acc\n",
        "ax[2][1].bar(x_pos, performance, align='center', alpha=1.0)\n",
        "ax[2][1].bar(x_pos[0], performance[0], align='center', alpha=1.0)\n",
        "ax[2][1].set_xticks(x_pos)\n",
        "ax[2][1].set_xticklabels(objects)\n",
        "ax[2][1].set_ylim(ymin, ymax)\n",
        "ax[2][1].set_ylabel('Accuracy (%)')\n",
        "ax[2][1].set_title('Sup-CAE', fontsize=22)\n",
        "\n",
        "performance = uscae_acc\n",
        "ax[2][2].bar(x_pos, performance, align='center', alpha=1.0)\n",
        "ax[2][2].bar(x_pos[0], performance[0], align='center', alpha=1.0)\n",
        "ax[2][2].set_xticks(x_pos)\n",
        "ax[2][2].set_xticklabels(objects)\n",
        "ax[2][2].set_ylim(ymin, ymax)\n",
        "ax[2][2].set_ylabel('Accuracy (%)')\n",
        "ax[2][2].set_title('Unsup-CAE', fontsize=22)\n",
        "\n",
        "ax[2][3].axis('off')\n",
        "\n",
        "\n",
        "plt.savefig('mnist_bar.pdf', bbox_inches='tight')"
      ],
      "metadata": {
        "colab": {
          "base_uri": "https://localhost:8080/",
          "height": 903
        },
        "id": "v3JiYu33NCUy",
        "outputId": "233545f5-4097-451b-885a-ce6c078a9aab"
      },
      "execution_count": 7,
      "outputs": [
        {
          "output_type": "display_data",
          "data": {
            "text/plain": [
              "<Figure size 432x288 with 0 Axes>"
            ]
          },
          "metadata": {}
        },
        {
          "output_type": "display_data",
          "data": {
            "text/plain": [
              "<Figure size 1440x1080 with 12 Axes>"
            ],
            "image/png": "[encoded data removed]"
          },
          "metadata": {
            "needs_background": "light"
          }
        }
      ]
    }
  ]
}
